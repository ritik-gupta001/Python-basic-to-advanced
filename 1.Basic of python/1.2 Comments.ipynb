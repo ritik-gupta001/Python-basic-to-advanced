{
 "cells": [
  {
   "cell_type": "code",
   "execution_count": 1,
   "id": "2fabbc0e-377c-460e-bc37-f64186838b31",
   "metadata": {},
   "outputs": [],
   "source": [
    "# comments\n",
    "# -> a peice of code which is not executable by the compiler"
   ]
  },
  {
   "cell_type": "code",
   "execution_count": 2,
   "id": "48a4f6a4-47a9-48e2-91a1-95929e70d15a",
   "metadata": {},
   "outputs": [],
   "source": [
    "# this is a comment"
   ]
  },
  {
   "cell_type": "code",
   "execution_count": null,
   "id": "2225a5ac-808e-46a1-8c81-6346af09cee6",
   "metadata": {},
   "outputs": [],
   "source": []
  }
 ],
 "metadata": {
  "kernelspec": {
   "display_name": "Python 3 (ipykernel)",
   "language": "python",
   "name": "python3"
  },
  "language_info": {
   "codemirror_mode": {
    "name": "ipython",
    "version": 3
   },
   "file_extension": ".py",
   "mimetype": "text/x-python",
   "name": "python",
   "nbconvert_exporter": "python",
   "pygments_lexer": "ipython3",
   "version": "3.11.7"
  }
 },
 "nbformat": 4,
 "nbformat_minor": 5
}
