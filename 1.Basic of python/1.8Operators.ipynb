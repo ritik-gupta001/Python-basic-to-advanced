{
 "cells": [
  {
   "cell_type": "markdown",
   "id": "141a5d23",
   "metadata": {},
   "source": [
    "# Operators in Python\n",
    "\n",
    "- **Arithmetic**: `+`, `-`, `*`, `/`, `%`, `**`, `//`\n",
    "- **Comparison**: `==`, `!=`, `>`, `<`, `>=`, `<=`\n",
    "- **Logical**: `and`, `or`, `not`\n",
    "- **Bitwise**: `&`, `|`, `^`, `~`, `<<`, `>>`\n",
    "- **Assignment**: `=`, `+=`, `-=`, `*=`, `/=`, `%=`, `**=`, `//=`\n",
    "- **Identity**: `is`, `is not`\n",
    "- **Membership**: `in`, `not in`"
   ]
  },
  {
   "cell_type": "markdown",
   "id": "a3bc8ca3",
   "metadata": {},
   "source": [
    "## Arithmetic Operators"
   ]
  },
  {
   "cell_type": "code",
   "execution_count": 74,
   "id": "c2a6b234",
   "metadata": {},
   "outputs": [
    {
     "name": "stdout",
     "output_type": "stream",
     "text": [
      "7\n"
     ]
    }
   ],
   "source": [
    "x = 5\n",
    "y = 2\n",
    "print(x + y)"
   ]
  },
  {
   "cell_type": "code",
   "execution_count": 75,
   "id": "30f459da",
   "metadata": {},
   "outputs": [
    {
     "name": "stdout",
     "output_type": "stream",
     "text": [
      "3\n"
     ]
    }
   ],
   "source": [
    "print(x - y)"
   ]
  },
  {
   "cell_type": "code",
   "execution_count": 76,
   "id": "0da6e085",
   "metadata": {},
   "outputs": [
    {
     "name": "stdout",
     "output_type": "stream",
     "text": [
      "10\n"
     ]
    }
   ],
   "source": [
    "print(x * y)"
   ]
  },
  {
   "cell_type": "code",
   "execution_count": 77,
   "id": "d4d08539",
   "metadata": {},
   "outputs": [
    {
     "name": "stdout",
     "output_type": "stream",
     "text": [
      "2.5\n"
     ]
    }
   ],
   "source": [
    "print(x / y)"
   ]
  },
  {
   "cell_type": "code",
   "execution_count": 78,
   "id": "3d5a14aa",
   "metadata": {},
   "outputs": [
    {
     "name": "stdout",
     "output_type": "stream",
     "text": [
      "1\n"
     ]
    }
   ],
   "source": [
    "print(x % y)"
   ]
  },
  {
   "cell_type": "code",
   "execution_count": 79,
   "id": "1331e865",
   "metadata": {},
   "outputs": [
    {
     "name": "stdout",
     "output_type": "stream",
     "text": [
      "25\n"
     ]
    }
   ],
   "source": [
    "print( x ** y)"
   ]
  },
  {
   "cell_type": "code",
   "execution_count": 80,
   "id": "87faa23d",
   "metadata": {},
   "outputs": [
    {
     "name": "stdout",
     "output_type": "stream",
     "text": [
      "2\n"
     ]
    }
   ],
   "source": [
    "print(x // y)"
   ]
  },
  {
   "cell_type": "markdown",
   "id": "e87610eb",
   "metadata": {},
   "source": [
    "## Comparison Operators"
   ]
  },
  {
   "cell_type": "code",
   "execution_count": 81,
   "id": "1e55f373",
   "metadata": {},
   "outputs": [
    {
     "name": "stdout",
     "output_type": "stream",
     "text": [
      "True\n"
     ]
    }
   ],
   "source": [
    "print(x > y)"
   ]
  },
  {
   "cell_type": "code",
   "execution_count": 82,
   "id": "eb7f4b0d",
   "metadata": {},
   "outputs": [
    {
     "name": "stdout",
     "output_type": "stream",
     "text": [
      "False\n"
     ]
    }
   ],
   "source": [
    "print(x < y)"
   ]
  },
  {
   "cell_type": "code",
   "execution_count": 83,
   "id": "ac23f5fa",
   "metadata": {},
   "outputs": [
    {
     "name": "stdout",
     "output_type": "stream",
     "text": [
      "True\n"
     ]
    }
   ],
   "source": [
    "print(x >= y)"
   ]
  },
  {
   "cell_type": "code",
   "execution_count": 84,
   "id": "95f28be8",
   "metadata": {},
   "outputs": [
    {
     "name": "stdout",
     "output_type": "stream",
     "text": [
      "False\n"
     ]
    }
   ],
   "source": [
    "print(x <= y)"
   ]
  },
  {
   "cell_type": "code",
   "execution_count": 85,
   "id": "7e4c993b",
   "metadata": {},
   "outputs": [
    {
     "name": "stdout",
     "output_type": "stream",
     "text": [
      "False\n"
     ]
    }
   ],
   "source": [
    "print(x == y)"
   ]
  },
  {
   "cell_type": "code",
   "execution_count": 86,
   "id": "ca8cdb71",
   "metadata": {},
   "outputs": [
    {
     "name": "stdout",
     "output_type": "stream",
     "text": [
      "True\n"
     ]
    }
   ],
   "source": [
    "print(x != y)"
   ]
  },
  {
   "cell_type": "markdown",
   "id": "2e59191b",
   "metadata": {},
   "source": [
    "## Logical Operators"
   ]
  },
  {
   "cell_type": "code",
   "execution_count": 87,
   "id": "54375bca",
   "metadata": {},
   "outputs": [
    {
     "name": "stdout",
     "output_type": "stream",
     "text": [
      "True\n"
     ]
    }
   ],
   "source": [
    "x = True\n",
    "y = False\n",
    "print( x or y)"
   ]
  },
  {
   "cell_type": "code",
   "execution_count": 88,
   "id": "3b08daf9",
   "metadata": {},
   "outputs": [
    {
     "name": "stdout",
     "output_type": "stream",
     "text": [
      "False\n"
     ]
    }
   ],
   "source": [
    "print(x and y)"
   ]
  },
  {
   "cell_type": "code",
   "execution_count": 89,
   "id": "5a7394a3",
   "metadata": {},
   "outputs": [
    {
     "name": "stdout",
     "output_type": "stream",
     "text": [
      "False\n",
      "True\n"
     ]
    }
   ],
   "source": [
    "print(not x)\n",
    "print(not y)"
   ]
  },
  {
   "cell_type": "markdown",
   "id": "9354200a",
   "metadata": {},
   "source": [
    "## Bitwise Operators"
   ]
  },
  {
   "cell_type": "code",
   "execution_count": 90,
   "id": "16f564ce",
   "metadata": {},
   "outputs": [],
   "source": [
    "x = 2\n",
    "y = 3"
   ]
  },
  {
   "cell_type": "code",
   "execution_count": 91,
   "id": "0340a092",
   "metadata": {},
   "outputs": [
    {
     "name": "stdout",
     "output_type": "stream",
     "text": [
      "2\n"
     ]
    }
   ],
   "source": [
    "print(x & y) # AND"
   ]
  },
  {
   "cell_type": "code",
   "execution_count": 92,
   "id": "d548aa5a",
   "metadata": {},
   "outputs": [
    {
     "name": "stdout",
     "output_type": "stream",
     "text": [
      "3\n"
     ]
    }
   ],
   "source": [
    "print(x | y) # OR"
   ]
  },
  {
   "cell_type": "code",
   "execution_count": 93,
   "id": "64a0fb02",
   "metadata": {},
   "outputs": [
    {
     "name": "stdout",
     "output_type": "stream",
     "text": [
      "1\n"
     ]
    }
   ],
   "source": [
    "print(2 ^ 3) # XOR"
   ]
  },
  {
   "cell_type": "code",
   "execution_count": 94,
   "id": "deef09bf",
   "metadata": {},
   "outputs": [
    {
     "name": "stdout",
     "output_type": "stream",
     "text": [
      "0\n"
     ]
    }
   ],
   "source": [
    "print(x >> 2) # Right Shift"
   ]
  },
  {
   "cell_type": "code",
   "execution_count": 95,
   "id": "0682a2ad",
   "metadata": {},
   "outputs": [
    {
     "name": "stdout",
     "output_type": "stream",
     "text": [
      "24\n"
     ]
    }
   ],
   "source": [
    "print(y << 3) # Left Shift"
   ]
  },
  {
   "cell_type": "code",
   "execution_count": 96,
   "id": "def4b208",
   "metadata": {},
   "outputs": [
    {
     "name": "stdout",
     "output_type": "stream",
     "text": [
      "-3\n"
     ]
    }
   ],
   "source": [
    "print(~ x) # NOT"
   ]
  },
  {
   "cell_type": "markdown",
   "id": "c71ea45b",
   "metadata": {},
   "source": [
    "## Assignment Operators"
   ]
  },
  {
   "cell_type": "code",
   "execution_count": 97,
   "id": "cc78c9f8",
   "metadata": {},
   "outputs": [
    {
     "name": "stdout",
     "output_type": "stream",
     "text": [
      "3\n"
     ]
    }
   ],
   "source": [
    "a = 3\n",
    "print(a)"
   ]
  },
  {
   "cell_type": "code",
   "execution_count": 98,
   "id": "716d632d",
   "metadata": {},
   "outputs": [
    {
     "name": "stdout",
     "output_type": "stream",
     "text": [
      "6\n"
     ]
    }
   ],
   "source": [
    "a += 3   # a = a + 3\n",
    "print(a)"
   ]
  },
  {
   "cell_type": "code",
   "execution_count": 99,
   "id": "3de9d46d",
   "metadata": {},
   "outputs": [
    {
     "name": "stdout",
     "output_type": "stream",
     "text": [
      "3\n"
     ]
    }
   ],
   "source": [
    "a -= 3   # a = a - 3\n",
    "print(a)"
   ]
  },
  {
   "cell_type": "code",
   "execution_count": 100,
   "id": "d8442403",
   "metadata": {},
   "outputs": [
    {
     "name": "stdout",
     "output_type": "stream",
     "text": [
      "9\n"
     ]
    }
   ],
   "source": [
    "a *= 3   # a = a * 3\n",
    "print(a)"
   ]
  },
  {
   "cell_type": "code",
   "execution_count": 101,
   "id": "948de9b8",
   "metadata": {},
   "outputs": [
    {
     "name": "stdout",
     "output_type": "stream",
     "text": [
      "3.0\n"
     ]
    }
   ],
   "source": [
    "a /= 3   # a = a / 3\n",
    "print(a)"
   ]
  },
  {
   "cell_type": "code",
   "execution_count": 102,
   "id": "923b0206",
   "metadata": {},
   "outputs": [],
   "source": [
    "a = a + 3\n",
    "a += 3"
   ]
  },
  {
   "cell_type": "markdown",
   "id": "f6e04a7b",
   "metadata": {},
   "source": [
    "## Identity Operators"
   ]
  },
  {
   "cell_type": "code",
   "execution_count": 103,
   "id": "807aecf6",
   "metadata": {},
   "outputs": [
    {
     "name": "stdout",
     "output_type": "stream",
     "text": [
      "True\n"
     ]
    }
   ],
   "source": [
    "a = 3\n",
    "b = 3\n",
    "print(a is b)"
   ]
  },
  {
   "cell_type": "code",
   "execution_count": 104,
   "id": "434647ad",
   "metadata": {},
   "outputs": [
    {
     "name": "stdout",
     "output_type": "stream",
     "text": [
      "True\n"
     ]
    }
   ],
   "source": [
    "a = \"Hello\"\n",
    "b = \"Hello\"\n",
    "print(a is b)"
   ]
  },
  {
   "cell_type": "code",
   "execution_count": 105,
   "id": "5bd365ab",
   "metadata": {},
   "outputs": [
    {
     "name": "stdout",
     "output_type": "stream",
     "text": [
      "False\n"
     ]
    }
   ],
   "source": [
    "a = [1, 2, 3]\n",
    "b = [1, 2, 3]\n",
    "print(a is b)"
   ]
  },
  {
   "cell_type": "code",
   "execution_count": 106,
   "id": "6b857d0d",
   "metadata": {},
   "outputs": [
    {
     "name": "stdout",
     "output_type": "stream",
     "text": [
      "False\n",
      "True\n"
     ]
    }
   ],
   "source": [
    "a = \"Hello-World\"\n",
    "b = \"Hello-World\"\n",
    "print(a is b)\n",
    "print(a is not b)"
   ]
  },
  {
   "cell_type": "markdown",
   "id": "b57edec4",
   "metadata": {},
   "source": [
    "## Membership Operators"
   ]
  },
  {
   "cell_type": "markdown",
   "id": "63dde763",
   "metadata": {},
   "source": [
    "`in` & `not in`"
   ]
  },
  {
   "cell_type": "code",
   "execution_count": 107,
   "id": "b6f998b6",
   "metadata": {},
   "outputs": [
    {
     "name": "stdout",
     "output_type": "stream",
     "text": [
      "True\n",
      "False\n"
     ]
    }
   ],
   "source": [
    "x = \"Delhi\"\n",
    "print(\"D\" in x)\n",
    "print(\"D\" not in x)"
   ]
  },
  {
   "cell_type": "code",
   "execution_count": 108,
   "id": "8b8231e7",
   "metadata": {},
   "outputs": [
    {
     "name": "stdout",
     "output_type": "stream",
     "text": [
      "True\n",
      "False\n"
     ]
    }
   ],
   "source": [
    "x = [1, 2, 3]\n",
    "print(1 in x)\n",
    "print(5 in x)"
   ]
  },
  {
   "cell_type": "code",
   "execution_count": 109,
   "id": "984c4f5a",
   "metadata": {},
   "outputs": [
    {
     "name": "stdout",
     "output_type": "stream",
     "text": [
      "True\n",
      "False\n"
     ]
    }
   ],
   "source": [
    "x = (1, 2, 3)\n",
    "print(1 in x)\n",
    "print(5 in x)"
   ]
  },
  {
   "cell_type": "code",
   "execution_count": 110,
   "id": "346fb486",
   "metadata": {},
   "outputs": [
    {
     "name": "stdin",
     "output_type": "stream",
     "text": [
      "Enter a 3 digit number:  999\n"
     ]
    },
    {
     "name": "stdout",
     "output_type": "stream",
     "text": [
      "27\n"
     ]
    }
   ],
   "source": [
    "# Sum of digits of a 3-digit number\n",
    "number = int(input('Enter a 3 digit number: '))\n",
    "\n",
    "# Units digit\n",
    "a = number % 10\n",
    "number //= 10\n",
    "\n",
    "# Tens digit\n",
    "b = number % 10\n",
    "number //= 10\n",
    "\n",
    "# Hundreds digit\n",
    "c = number % 10\n",
    "\n",
    "print(a + b + c)"
   ]
  }
 ],
 "metadata": {
  "kernelspec": {
   "display_name": "Python 3 (ipykernel)",
   "language": "python",
   "name": "python3"
  },
  "language_info": {
   "codemirror_mode": {
    "name": "ipython",
    "version": 3
   },
   "file_extension": ".py",
   "mimetype": "text/x-python",
   "name": "python",
   "nbconvert_exporter": "python",
   "pygments_lexer": "ipython3",
   "version": "3.11.7"
  }
 },
 "nbformat": 4,
 "nbformat_minor": 5
}
