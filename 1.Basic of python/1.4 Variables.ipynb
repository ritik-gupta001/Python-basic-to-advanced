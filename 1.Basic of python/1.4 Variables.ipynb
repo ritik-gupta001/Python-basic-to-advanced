{
 "cells": [
  {
   "cell_type": "code",
   "execution_count": 13,
   "id": "72ee8c1f-6c0e-40da-bbca-1da6c119207c",
   "metadata": {},
   "outputs": [
    {
     "name": "stdout",
     "output_type": "stream",
     "text": [
      "Ritik\n"
     ]
    }
   ],
   "source": [
    "name= \"Ritik\"\n",
    "print(name)"
   ]
  },
  {
   "cell_type": "code",
   "execution_count": 10,
   "id": "223471ea-82df-4084-b916-0680601d329e",
   "metadata": {},
   "outputs": [],
   "source": [
    "# no need to declare variables"
   ]
  },
  {
   "cell_type": "code",
   "execution_count": 9,
   "id": "e88a7dad-2315-4763-a653-af52446a65ac",
   "metadata": {},
   "outputs": [],
   "source": [
    "# dynamic typing ->no need to specify dtypes\n",
    "# python follows dynamic binding means jaruri nhi h ki ek dataypes fix hogya variable ke ander we can change dypes"
   ]
  },
  {
   "cell_type": "code",
   "execution_count": 14,
   "id": "46037fa1-1530-48c1-9714-5104cf0bc9aa",
   "metadata": {},
   "outputs": [
    {
     "name": "stdout",
     "output_type": "stream",
     "text": [
      "5\n"
     ]
    }
   ],
   "source": [
    "name=5\n",
    "print(name)"
   ]
  },
  {
   "cell_type": "code",
   "execution_count": 15,
   "id": "a6d2a97a-26c5-498c-97fd-b2f792561038",
   "metadata": {},
   "outputs": [
    {
     "name": "stdout",
     "output_type": "stream",
     "text": [
      "True\n"
     ]
    }
   ],
   "source": [
    "name=True \n",
    "print(name)"
   ]
  },
  {
   "cell_type": "code",
   "execution_count": 18,
   "id": "4b067a56-3a84-4c73-adb0-4e5e0fd47055",
   "metadata": {},
   "outputs": [
    {
     "name": "stdout",
     "output_type": "stream",
     "text": [
      "2\n",
      "7\n",
      "3\n"
     ]
    }
   ],
   "source": [
    "# special syntax\n",
    "# multiple variable declaration\n",
    "a=2;b=7;c=3\n",
    "print(a)\n",
    "print(b)\n",
    "print(c)"
   ]
  },
  {
   "cell_type": "code",
   "execution_count": 19,
   "id": "4cec3974-dc95-468f-a897-d138d3dd1a33",
   "metadata": {},
   "outputs": [
    {
     "name": "stdout",
     "output_type": "stream",
     "text": [
      "4\n",
      "5\n",
      "6\n"
     ]
    }
   ],
   "source": [
    "a,b,c =4,5,6\n",
    "print(a)\n",
    "print(b)\n",
    "print(c)"
   ]
  },
  {
   "cell_type": "code",
   "execution_count": 22,
   "id": "36417d8b-bc95-46f6-ae0c-5f12a65845e8",
   "metadata": {},
   "outputs": [
    {
     "name": "stdout",
     "output_type": "stream",
     "text": [
      "6\n",
      "6\n",
      "6\n"
     ]
    }
   ],
   "source": [
    "a=b=c=6\n",
    "print(a)\n",
    "print(b)\n",
    "print(c)\n"
   ]
  }
 ],
 "metadata": {
  "kernelspec": {
   "display_name": "Python 3 (ipykernel)",
   "language": "python",
   "name": "python3"
  },
  "language_info": {
   "codemirror_mode": {
    "name": "ipython",
    "version": 3
   },
   "file_extension": ".py",
   "mimetype": "text/x-python",
   "name": "python",
   "nbconvert_exporter": "python",
   "pygments_lexer": "ipython3",
   "version": "3.11.7"
  }
 },
 "nbformat": 4,
 "nbformat_minor": 5
}
