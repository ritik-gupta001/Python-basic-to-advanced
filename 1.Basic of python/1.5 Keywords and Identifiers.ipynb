{
 "cells": [
  {
   "cell_type": "markdown",
   "id": "dad6ca6b-0475-4b67-8d08-c7cc14a94a94",
   "metadata": {},
   "source": [
    "## Keywords"
   ]
  },
  {
   "cell_type": "code",
   "execution_count": 1,
   "id": "51fd404f-66b0-4b78-aec0-f7e335be3b07",
   "metadata": {},
   "outputs": [],
   "source": [
    "## python is a case sensitive programming language"
   ]
  },
  {
   "cell_type": "code",
   "execution_count": 2,
   "id": "823c26ac-063b-47e6-ab3d-b4c269531b07",
   "metadata": {},
   "outputs": [
    {
     "name": "stdout",
     "output_type": "stream",
     "text": [
      "['False', 'None', 'True', 'and', 'as', 'assert', 'async', 'await', 'break', 'class', 'continue', 'def', 'del', 'elif', 'else', 'except', 'finally', 'for', 'from', 'global', 'if', 'import', 'in', 'is', 'lambda', 'nonlocal', 'not', 'or', 'pass', 'raise', 'return', 'try', 'while', 'with', 'yield']\n"
     ]
    }
   ],
   "source": [
    "# python has 33 keywords\n",
    "import keyword\n",
    "print(keyword.kwlist)"
   ]
  },
  {
   "cell_type": "markdown",
   "id": "d52a4bfa-550f-46d3-87e3-d32d95b6a9e6",
   "metadata": {},
   "source": [
    "## Identifiers"
   ]
  },
  {
   "cell_type": "code",
   "execution_count": 4,
   "id": "3a1e0353-53fa-4f98-95ee-80bfc73c4f75",
   "metadata": {},
   "outputs": [],
   "source": [
    " # a python identifiers is a name used to identify a varible,class,function,module,or other object\n"
   ]
  },
  {
   "cell_type": "markdown",
   "id": "05ea0e53-2012-4325-aa1e-a87c686c617f",
   "metadata": {},
   "source": [
    "## rules\n",
    "#can start only with alphabets and _\n",
    "#followed by 0,or more letters ,_,and digits\n",
    "#keyword cant be used as an identifiers"
   ]
  },
  {
   "cell_type": "code",
   "execution_count": 7,
   "id": "87c2d171-5db4-4864-986b-b9a0e85f4b80",
   "metadata": {},
   "outputs": [
    {
     "name": "stdout",
     "output_type": "stream",
     "text": [
      "5\n"
     ]
    }
   ],
   "source": [
    "_=5\n",
    "print(_)"
   ]
  },
  {
   "cell_type": "code",
   "execution_count": null,
   "id": "8133a1ac-47da-40ed-9e08-5abb8ed73da1",
   "metadata": {},
   "outputs": [],
   "source": []
  }
 ],
 "metadata": {
  "kernelspec": {
   "display_name": "Python 3 (ipykernel)",
   "language": "python",
   "name": "python3"
  },
  "language_info": {
   "codemirror_mode": {
    "name": "ipython",
    "version": 3
   },
   "file_extension": ".py",
   "mimetype": "text/x-python",
   "name": "python",
   "nbconvert_exporter": "python",
   "pygments_lexer": "ipython3",
   "version": "3.11.7"
  }
 },
 "nbformat": 4,
 "nbformat_minor": 5
}
