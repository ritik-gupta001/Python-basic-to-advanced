{
 "cells": [
  {
   "cell_type": "code",
   "execution_count": 1,
   "id": "ce58f09e-5625-45e2-ad56-2ba7efe7b7df",
   "metadata": {},
   "outputs": [
    {
     "name": "stdin",
     "output_type": "stream",
     "text": [
      "Apna Naam Bta ritik\n"
     ]
    },
    {
     "data": {
      "text/plain": [
       "'ritik'"
      ]
     },
     "execution_count": 1,
     "metadata": {},
     "output_type": "execute_result"
    }
   ],
   "source": [
    "input(prompt=\"Apna Naam Bta\")"
   ]
  },
  {
   "cell_type": "raw",
   "id": "6b228108-16f9-4ac6-905c-255aff884f6a",
   "metadata": {},
   "source": [
    "first_no=input(\"Enter first NO \")\n",
    "second_no=input(\"Enter second no\")"
   ]
  },
  {
   "cell_type": "code",
   "execution_count": 9,
   "id": "982155ce-2a0f-47b1-9a29-bf20a3ceaff2",
   "metadata": {},
   "outputs": [
    {
     "name": "stdout",
     "output_type": "stream",
     "text": [
      "5678\n"
     ]
    }
   ],
   "source": [
    "sum = first_no + second_no\n",
    "print(sum)"
   ]
  },
  {
   "cell_type": "code",
   "execution_count": 10,
   "id": "7d3f0e56-3afc-405b-971c-3d340ebb893d",
   "metadata": {},
   "outputs": [
    {
     "data": {
      "text/plain": [
       "str"
      ]
     },
     "execution_count": 10,
     "metadata": {},
     "output_type": "execute_result"
    }
   ],
   "source": [
    "type(first_no)"
   ]
  },
  {
   "cell_type": "code",
   "execution_count": 8,
   "id": "09c169bc-edf6-4af8-8f46-9ba915eb8e48",
   "metadata": {},
   "outputs": [],
   "source": [
    "# we are getting that output because input is always taken as string"
   ]
  },
  {
   "cell_type": "markdown",
   "id": "d83bfec1-4c3b-44f1-afe6-0a1f386d2fde",
   "metadata": {},
   "source": [
    "## TypeCasting"
   ]
  },
  {
   "cell_type": "code",
   "execution_count": 13,
   "id": "84c6932f-a363-4873-9322-fecb662d73b7",
   "metadata": {},
   "outputs": [
    {
     "data": {
      "text/plain": [
       "9.5"
      ]
     },
     "execution_count": 13,
     "metadata": {},
     "output_type": "execute_result"
    }
   ],
   "source": [
    "# typecasting is the process of changing one dtypes into other\n",
    "# implicit->python khud se kar dega type conversion bina btaye user ke\n",
    "4+5.5"
   ]
  },
  {
   "cell_type": "code",
   "execution_count": 16,
   "id": "5ed74247-9ae3-4f07-b01d-6eb0a0e9eee7",
   "metadata": {},
   "outputs": [
    {
     "data": {
      "text/plain": [
       "67"
      ]
     },
     "execution_count": 16,
     "metadata": {},
     "output_type": "execute_result"
    }
   ],
   "source": [
    "# explicit-> user ko btana padega type conversion ke lie\n",
    "int('67')"
   ]
  },
  {
   "cell_type": "code",
   "execution_count": 18,
   "id": "7d5724fd-c434-460f-9214-ec5f5d62a05b",
   "metadata": {},
   "outputs": [
    {
     "data": {
      "text/plain": [
       "['H', 'e', 'l', 'l', 'o']"
      ]
     },
     "execution_count": 18,
     "metadata": {},
     "output_type": "execute_result"
    }
   ],
   "source": [
    "list(\"Hello\")"
   ]
  },
  {
   "cell_type": "code",
   "execution_count": 20,
   "id": "8ed5fa57-6518-4522-919e-3d0f2d76a913",
   "metadata": {},
   "outputs": [
    {
     "name": "stdin",
     "output_type": "stream",
     "text": [
      "Enter first NO  34\n",
      "Enter second no 45\n"
     ]
    },
    {
     "name": "stdout",
     "output_type": "stream",
     "text": [
      "79\n"
     ]
    }
   ],
   "source": [
    "first_no=input(\"Enter first NO \")\n",
    "second_no=input(\"Enter second no\")\n",
    "sum = int(first_no) + int(second_no)\n",
    "print(sum)"
   ]
  },
  {
   "cell_type": "code",
   "execution_count": 21,
   "id": "b7a79a1e-acfa-4001-a6c0-1c283c2cb40e",
   "metadata": {},
   "outputs": [
    {
     "name": "stdin",
     "output_type": "stream",
     "text": [
      "Enter first NO  34\n",
      "Enter second no 56\n"
     ]
    },
    {
     "name": "stdout",
     "output_type": "stream",
     "text": [
      "90\n"
     ]
    }
   ],
   "source": [
    "first_no=int(input(\"Enter first NO \"))\n",
    "second_no=int(input(\"Enter second no\"))\n",
    "sum = first_no + second_no\n",
    "print(sum)"
   ]
  },
  {
   "cell_type": "code",
   "execution_count": null,
   "id": "2c7ac7a4-bfbc-43a5-b63f-27dbe7831aa7",
   "metadata": {},
   "outputs": [],
   "source": []
  }
 ],
 "metadata": {
  "kernelspec": {
   "display_name": "Python 3 (ipykernel)",
   "language": "python",
   "name": "python3"
  },
  "language_info": {
   "codemirror_mode": {
    "name": "ipython",
    "version": 3
   },
   "file_extension": ".py",
   "mimetype": "text/x-python",
   "name": "python",
   "nbconvert_exporter": "python",
   "pygments_lexer": "ipython3",
   "version": "3.11.7"
  }
 },
 "nbformat": 4,
 "nbformat_minor": 5
}
