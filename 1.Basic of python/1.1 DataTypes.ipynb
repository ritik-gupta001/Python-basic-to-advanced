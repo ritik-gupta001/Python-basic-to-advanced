{
 "cells": [
  {
   "cell_type": "markdown",
   "id": "6aa55642-f70c-463b-8a46-8098b49cd44b",
   "metadata": {},
   "source": [
    "## python supports 3 types of datatypes\n",
    "# .basic types-> int,float,complex,boolean,string\n",
    "# .container type-> list,tuple,sets, dictionary \n",
    "# . user defined type-> class"
   ]
  },
  {
   "cell_type": "code",
   "execution_count": 2,
   "id": "0c05956d-7a48-4acd-8a16-a5bbdbd9a996",
   "metadata": {},
   "outputs": [
    {
     "name": "stdout",
     "output_type": "stream",
     "text": [
      "5\n",
      "inf\n"
     ]
    }
   ],
   "source": [
    "# integer\n",
    "print(5)\n",
    "print(1e309)"
   ]
  },
  {
   "cell_type": "code",
   "execution_count": 3,
   "id": "f12eab71-8c54-462d-ad0e-40dd3282c89f",
   "metadata": {},
   "outputs": [
    {
     "name": "stdout",
     "output_type": "stream",
     "text": [
      "67.778\n",
      "1.7e+308\n"
     ]
    }
   ],
   "source": [
    "# float\n",
    "print(67.778)\n",
    "print(1.7e308)"
   ]
  },
  {
   "cell_type": "code",
   "execution_count": 4,
   "id": "70fa99c5-5be5-40dc-b758-c759e35ab24f",
   "metadata": {},
   "outputs": [
    {
     "name": "stdout",
     "output_type": "stream",
     "text": [
      "True\n"
     ]
    }
   ],
   "source": [
    "# boolean\n",
    "print(True)"
   ]
  },
  {
   "cell_type": "code",
   "execution_count": 10,
   "id": "4d87f4a5-afa4-4d8a-a0f3-2256377fae62",
   "metadata": {},
   "outputs": [
    {
     "name": "stdout",
     "output_type": "stream",
     "text": [
      "Ritik\n",
      "Ritik\n",
      "Ritik\n"
     ]
    }
   ],
   "source": [
    "# String\n",
    "print('Ritik')\n",
    "print(\"Ritik\")\n",
    "print('''Ritik''')"
   ]
  },
  {
   "cell_type": "code",
   "execution_count": 7,
   "id": "467b0f67-79f4-4d00-8ae0-19f50838e85b",
   "metadata": {},
   "outputs": [
    {
     "name": "stdout",
     "output_type": "stream",
     "text": [
      "(1+3j)\n"
     ]
    }
   ],
   "source": [
    "# complex\n",
    "print(1+3j)"
   ]
  },
  {
   "cell_type": "code",
   "execution_count": 12,
   "id": "b4aed142-4b79-46f8-a51a-4e4eb2c50ffd",
   "metadata": {},
   "outputs": [
    {
     "name": "stdout",
     "output_type": "stream",
     "text": [
      "[1, 23, 5, 8]\n"
     ]
    }
   ],
   "source": [
    "# list\n",
    "print([1,23,5,8])"
   ]
  },
  {
   "cell_type": "code",
   "execution_count": 14,
   "id": "f1987a84-7f5f-4d07-88f8-6dbade79d8b3",
   "metadata": {},
   "outputs": [
    {
     "name": "stdout",
     "output_type": "stream",
     "text": [
      "(2, 4, 5, 6, 8)\n"
     ]
    }
   ],
   "source": [
    "# tuple\n",
    "print((2,4,5,6,8))"
   ]
  },
  {
   "cell_type": "code",
   "execution_count": 15,
   "id": "d3c58e77-6fe8-4c45-a5a7-a3f99b7e9643",
   "metadata": {},
   "outputs": [
    {
     "name": "stdout",
     "output_type": "stream",
     "text": [
      "{1, 3, 6, 9, 45}\n"
     ]
    }
   ],
   "source": [
    "# Sets\n",
    "print({1,3,45,6,9})"
   ]
  },
  {
   "cell_type": "code",
   "execution_count": 16,
   "id": "dc96cd70-4d10-487d-b2b6-54cb63e2fb17",
   "metadata": {},
   "outputs": [
    {
     "name": "stdout",
     "output_type": "stream",
     "text": [
      "{'Name': 'Ritik', 'age': '22', 'gender': 'Male'}\n"
     ]
    }
   ],
   "source": [
    "# Dictionary\n",
    "print({\"Name\":\"Ritik\",\"age\":\"22\",\"gender\":\"Male\"})"
   ]
  },
  {
   "cell_type": "code",
   "execution_count": null,
   "id": "ef4393c9-d5d1-48b5-ace6-2b3efe2896af",
   "metadata": {},
   "outputs": [],
   "source": []
  }
 ],
 "metadata": {
  "kernelspec": {
   "display_name": "Python 3 (ipykernel)",
   "language": "python",
   "name": "python3"
  },
  "language_info": {
   "codemirror_mode": {
    "name": "ipython",
    "version": 3
   },
   "file_extension": ".py",
   "mimetype": "text/x-python",
   "name": "python",
   "nbconvert_exporter": "python",
   "pygments_lexer": "ipython3",
   "version": "3.11.7"
  }
 },
 "nbformat": 4,
 "nbformat_minor": 5
}
