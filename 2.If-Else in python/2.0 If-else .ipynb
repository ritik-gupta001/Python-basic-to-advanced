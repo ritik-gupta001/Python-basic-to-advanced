{
 "cells": [
  {
   "cell_type": "markdown",
   "id": "db0bdab5",
   "metadata": {},
   "source": [
    "# if-else"
   ]
  },
  {
   "cell_type": "code",
   "execution_count": 1,
   "id": "bf6ea54a",
   "metadata": {},
   "outputs": [
    {
     "name": "stdin",
     "output_type": "stream",
     "text": [
      "Apna email bata:  ritikgupta78560@gmail.com\n",
      "Apna password bhi bata:  78560\n"
     ]
    },
    {
     "name": "stdout",
     "output_type": "stream",
     "text": [
      "Welcome\n"
     ]
    }
   ],
   "source": [
    "# correct email - ritikgupta78560@gmail.com\n",
    "# password = 78560\n",
    "\n",
    "email = input(\"Apna email bata: \")\n",
    "if \"@\" in email:\n",
    "    password = input(\"Apna password bhi bata: \")\n",
    "    \n",
    "    if email == \"ritikgupta78560@gmail.com\" and password == \"78560\":\n",
    "        print(\"Welcome\")\n",
    "    elif email == \"ritikgupta78560@gmail.com\" and password != \"78560\":\n",
    "        print(\"Password incorrect\")\n",
    "        password = input(\"Password fir se bol: \")\n",
    "        if password ==\"78560\":\n",
    "            print(\"Finally correct\")\n",
    "        else:\n",
    "            print(\"Still incorrect\")\n",
    "    else:\n",
    "        print(\"Incorrect credentials\")\n",
    "else:\n",
    "    print(\"Email galat hai sahi likho: \")"
   ]
  },
  {
   "cell_type": "code",
   "execution_count": 2,
   "id": "c935319a",
   "metadata": {},
   "outputs": [
    {
     "name": "stdin",
     "output_type": "stream",
     "text": [
      "first num:  67\n",
      "second num:  78\n",
      "third num:  34\n"
     ]
    },
    {
     "name": "stdout",
     "output_type": "stream",
     "text": [
      "smallest is 34\n"
     ]
    }
   ],
   "source": [
    "# 1. Min of 3 Numbers\n",
    "a = int(input('first num: '))\n",
    "b = int(input('second num: '))\n",
    "c = int(input('third num: '))\n",
    "\n",
    "if a < b and a < c:\n",
    "    print('smallest is', a)\n",
    "elif b < c:\n",
    "    print('smallest is', b)\n",
    "else:\n",
    "    print('smallest is', c)"
   ]
  },
  {
   "cell_type": "code",
   "execution_count": 4,
   "id": "6350150c",
   "metadata": {},
   "outputs": [
    {
     "name": "stdin",
     "output_type": "stream",
     "text": [
      "\n",
      "Hi! how can I help you.\n",
      "1. Enter 1 for pin change\n",
      "2. Enter 2 for balance check\n",
      "3. Enter 3 for withdrawl\n",
      "4. Enter 4 for exit\n",
      " 2\n"
     ]
    },
    {
     "name": "stdout",
     "output_type": "stream",
     "text": [
      "balance\n"
     ]
    }
   ],
   "source": [
    "# 2. Menu-Driven Calculator\n",
    "menu = input(\"\"\"\n",
    "Hi! how can I help you.\n",
    "1. Enter 1 for pin change\n",
    "2. Enter 2 for balance check\n",
    "3. Enter 3 for withdrawl\n",
    "4. Enter 4 for exit\n",
    "\"\"\")\n",
    "\n",
    "if menu == '1':\n",
    "  print('pin change')\n",
    "elif menu == '2':\n",
    "  print('balance')\n",
    "else:\n",
    "  print('exit')"
   ]
  },
  {
   "cell_type": "code",
   "execution_count": null,
   "id": "5cf1b611-a4d3-481b-84c9-7c739f7f7338",
   "metadata": {},
   "outputs": [],
   "source": []
  }
 ],
 "metadata": {
  "kernelspec": {
   "display_name": "Python 3 (ipykernel)",
   "language": "python",
   "name": "python3"
  },
  "language_info": {
   "codemirror_mode": {
    "name": "ipython",
    "version": 3
   },
   "file_extension": ".py",
   "mimetype": "text/x-python",
   "name": "python",
   "nbconvert_exporter": "python",
   "pygments_lexer": "ipython3",
   "version": "3.11.7"
  }
 },
 "nbformat": 4,
 "nbformat_minor": 5
}
