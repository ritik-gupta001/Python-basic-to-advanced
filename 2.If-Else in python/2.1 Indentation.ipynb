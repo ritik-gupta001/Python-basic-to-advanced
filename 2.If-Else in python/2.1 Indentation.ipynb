{
 "cells": [
  {
   "cell_type": "code",
   "execution_count": null,
   "id": "ac5de9b0-b466-44be-98a0-0c59c57b9d19",
   "metadata": {},
   "outputs": [],
   "source": [
    "# In Other Languages\n",
    "if(name == \"xyz\"){\n",
    "    something;\n",
    "    something;\n",
    "}else{\n",
    "    something else;\n",
    "    something else;\n",
    "}"
   ]
  },
  {
   "cell_type": "code",
   "execution_count": 4,
   "id": "9c643e75",
   "metadata": {},
   "outputs": [
    {
     "name": "stdout",
     "output_type": "stream",
     "text": [
      "line1\n",
      "line2\n",
      "line5\n"
     ]
    }
   ],
   "source": [
    "# In Python\n",
    "name = \"xyz\"\n",
    "if name == \"xyz\":\n",
    "    print(\"line1\")\n",
    "    print(\"line2\")\n",
    "    if 5 == 5:\n",
    "        print(\"line5\")\n",
    "else:\n",
    "    print(\"line3\")"
   ]
  },
  {
   "cell_type": "code",
   "execution_count": null,
   "id": "dc27dfd2-2bed-490d-91b2-4cc6719d7a28",
   "metadata": {},
   "outputs": [],
   "source": []
  }
 ],
 "metadata": {
  "kernelspec": {
   "display_name": "Python 3 (ipykernel)",
   "language": "python",
   "name": "python3"
  },
  "language_info": {
   "codemirror_mode": {
    "name": "ipython",
    "version": 3
   },
   "file_extension": ".py",
   "mimetype": "text/x-python",
   "name": "python",
   "nbconvert_exporter": "python",
   "pygments_lexer": "ipython3",
   "version": "3.11.7"
  }
 },
 "nbformat": 4,
 "nbformat_minor": 5
}
