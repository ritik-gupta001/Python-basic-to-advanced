{
 "cells": [
  {
   "cell_type": "markdown",
   "id": "6975c47a",
   "metadata": {},
   "source": [
    "# What are Modules?\n",
    "\n",
    "- **Code libraries** in Python.\n",
    "- **Contain functions** for use.\n",
    "\n",
    "*Examples:*\n",
    "- **Math**: Math ops\n",
    "- **Random**: Random numbers\n",
    "- **os**: OS interaction\n",
    "- **time**: Time tasks"
   ]
  },
  {
   "cell_type": "code",
   "execution_count": 2,
   "id": "81110a65-8227-4ba4-a48a-30593ba55d11",
   "metadata": {},
   "outputs": [
    {
     "name": "stdout",
     "output_type": "stream",
     "text": [
      "Collecting hypothesis\n",
      "  Downloading hypothesis-6.138.2-py3-none-any.whl.metadata (5.6 kB)\n",
      "Requirement already satisfied: attrs>=22.2.0 in c:\\users\\ritik\\anaconda3\\lib\\site-packages (from hypothesis) (23.1.0)\n",
      "Requirement already satisfied: sortedcontainers<3.0.0,>=2.1.0 in c:\\users\\ritik\\anaconda3\\lib\\site-packages (from hypothesis) (2.4.0)\n",
      "Downloading hypothesis-6.138.2-py3-none-any.whl (530 kB)\n",
      "   ---------------------------------------- 0.0/530.0 kB ? eta -:--:--\n",
      "   ---------------------------------------- 0.0/530.0 kB ? eta -:--:--\n",
      "    --------------------------------------- 10.2/530.0 kB ? eta -:--:--\n",
      "   -- ------------------------------------ 30.7/530.0 kB 262.6 kB/s eta 0:00:02\n",
      "   ------ -------------------------------- 92.2/530.0 kB 655.4 kB/s eta 0:00:01\n",
      "   --------------- ------------------------ 204.8/530.0 kB 1.1 MB/s eta 0:00:01\n",
      "   ------------------------ --------------- 327.7/530.0 kB 1.5 MB/s eta 0:00:01\n",
      "   ------------------------------- -------- 419.8/530.0 kB 1.5 MB/s eta 0:00:01\n",
      "   ---------------------------------------  522.2/530.0 kB 1.6 MB/s eta 0:00:01\n",
      "   ---------------------------------------- 530.0/530.0 kB 1.5 MB/s eta 0:00:00\n",
      "Installing collected packages: hypothesis\n",
      "Successfully installed hypothesis-6.138.2\n"
     ]
    },
    {
     "name": "stderr",
     "output_type": "stream",
     "text": [
      "C:\\Users\\ritik\\anaconda3\\Lib\\site-packages\\IPython\\utils\\_process_win32.py:124: ResourceWarning:\n",
      "\n",
      "unclosed file <_io.BufferedWriter name=4>\n",
      "\n",
      "C:\\Users\\ritik\\anaconda3\\Lib\\site-packages\\IPython\\utils\\_process_win32.py:124: ResourceWarning:\n",
      "\n",
      "unclosed file <_io.BufferedReader name=5>\n",
      "\n",
      "C:\\Users\\ritik\\anaconda3\\Lib\\site-packages\\IPython\\utils\\_process_win32.py:124: ResourceWarning:\n",
      "\n",
      "unclosed file <_io.BufferedReader name=6>\n",
      "\n"
     ]
    }
   ],
   "source": [
    "!pip install hypothesis\n"
   ]
  },
  {
   "cell_type": "code",
   "execution_count": 3,
   "id": "c827ad4b",
   "metadata": {},
   "outputs": [
    {
     "name": "stdout",
     "output_type": "stream",
     "text": [
      "\n",
      "Please wait a moment while I gather a list of all available modules...\n",
      "\n"
     ]
    },
    {
     "name": "stderr",
     "output_type": "stream",
     "text": [
      "<frozen importlib._bootstrap>:1047: ImportWarning:\n",
      "\n",
      "BackendFinder.find_spec() not found; falling back to find_module()\n",
      "\n",
      "<frozen importlib._bootstrap>:1047: ImportWarning:\n",
      "\n",
      "BackendFinder.find_spec() not found; falling back to find_module()\n",
      "\n",
      "C:\\Users\\ritik\\anaconda3\\Lib\\site-packages\\ydata_profiling\\report\\presentation\\flavours\\widget\\correlation_table.py:1: DeprecationWarning:\n",
      "\n",
      "Importing display from IPython.core.display is deprecated since IPython 7.14, please import from IPython display\n",
      "\n",
      "C:\\Users\\ritik\\anaconda3\\Lib\\site-packages\\ydata_profiling\\report\\presentation\\flavours\\widget\\duplicate.py:1: DeprecationWarning:\n",
      "\n",
      "Importing display from IPython.core.display is deprecated since IPython 7.14, please import from IPython display\n",
      "\n",
      "C:\\Users\\ritik\\anaconda3\\Lib\\site-packages\\ydata_profiling\\report\\presentation\\flavours\\widget\\sample.py:1: DeprecationWarning:\n",
      "\n",
      "Importing display from IPython.core.display is deprecated since IPython 7.14, please import from IPython display\n",
      "\n"
     ]
    },
    {
     "name": "stdout",
     "output_type": "stream",
     "text": [
      "6c7190bc8b55ffe67f57__mypyc conda_pack          ml_dtypes           sniffio\n",
      "IPython             conda_package_handling mlxtend             snowballstemmer\n",
      "OpenSSL             conda_package_streaming mmap                socket\n",
      "PIL                 conda_token         mmapfile            socketserver\n",
      "PyQt5               conda_verify        mmsystem            socks\n",
      "__future__          conf                modulefinder        sockshandler\n",
      "__hello__           configparser        more_itertools      sortedcontainers\n",
      "__phello__          constantly          mpmath              soupsieve\n",
      "_abc                contextlib          msgpack             sphinx\n",
      "_aix_support        contextvars         msilib              sphinxify\n",
      "_argon2_cffi_bindings contourpy           msvcrt              sphinxthread\n",
      "_ast                cookiecutter        multidict           spyder\n",
      "_asyncio            copy                multimethod         spyder_kernels\n",
      "_bisect             copyreg             multipledispatch    sqlalchemy\n",
      "_black_version      cpuinfo             multiprocessing     sqlite3\n",
      "_blake2             crypt               munkres             sre_compile\n",
      "_bootsubprocess     cryptography        mypy                sre_constants\n",
      "_brotli             cssselect           mypy_extensions     sre_parse\n",
      "_bz2                csv                 mypyc               ssl\n",
      "_cffi_backend       ctypes              mysql               sspi\n",
      "_codecs             curl                mysqlx              sspicon\n",
      "_codecs_cn          curses              nacl                stack_data\n",
      "_codecs_hk          cwp                 namex               stat\n",
      "_codecs_iso2022     cycler              navigator_updater   statistics\n",
      "_codecs_jp          cytoolz             nbclient            statsmodels\n",
      "_codecs_kr          dacite              nbconvert           streamlit\n",
      "_codecs_tw          dask                nbformat            string\n",
      "_collections        dataclasses         nest_asyncio        stringprep\n",
      "_collections_abc    datashader          netbios             struct\n",
      "_compat_pickle      datetime            netrc               subprocess\n",
      "_compression        dateutil            networkx            sunau\n",
      "_contextvars        dbi                 nltk                sympy\n",
      "_csv                dbm                 nntplib             symtable\n",
      "_ctypes             dde                 notebook            sys\n",
      "_ctypes_test        debugpy             notebook_shim       sysconfig\n",
      "_datetime           decimal             nt                  tables\n",
      "_decimal            decorator           ntpath              tabnanny\n",
      "_distutils_hack     defusedxml          ntsecuritycon       tabulate\n",
      "_elementtree        diff_match_patch    nturl2path          tangled_up_in_unicode\n",
      "_functools          difflib             numba               tarfile\n",
      "_hashlib            dill                numbergen           tblib\n",
      "_heapq              dis                 numbers             telnetlib\n",
      "_hypothesis_ftz_detector distributed         numexpr             tempfile\n",
      "_hypothesis_globals distro              numpy               tenacity\n",
      "_hypothesis_pytestplugin distutils           numpydoc            tensorboard\n",
      "_imp                docstring_to_markdown oauthlib            tensorboard_data_server\n",
      "_io                 doctest             odbc                tensorflow\n",
      "_json               docutils            opcode              tensorflow_estimator\n",
      "_locale             dotenv              openpyxl            tensorflow_io_gcs_filesystem\n",
      "_lsprof             dtreeviz            operator            termcolor\n",
      "_lzma               email               opt_einsum          terminado\n",
      "_markupbase         encodings           optparse            test\n",
      "_md5                ensurepip           optree              test_pycosat\n",
      "_msi                entrypoints         optuna              testing\n",
      "_multibytecodec     enum                optuna_integration  text_unidecode\n",
      "_multiprocessing    erfa                os                  textdistance\n",
      "_nsis               errno               overrides           textwrap\n",
      "_opcode             et_xmlfile          packaging           this\n",
      "_operator           executing           pandas              threading\n",
      "_osx_support        fastjsonschema      pandas_datareader   threadpoolctl\n",
      "_overlapped         faulthandler        pandas_profiling    three_merge\n",
      "_pickle             filecmp             pandocfilters       tifffile\n",
      "_plotly_future_     fileinput           panel               time\n",
      "_plotly_utils       filelock            param               timeit\n",
      "_py_abc             flake8              paramiko            timer\n",
      "_pydecimal          flask               parsel              tinycss2\n",
      "_pyio               flatbuffers         parso               tkinter\n",
      "_pytest             fnmatch             partd               tldextract\n",
      "_queue              fontTools           past                tlz\n",
      "_random             fqdn                pasta               token\n",
      "_sha1               fractions           pathlib             tokenize\n",
      "_sha256             frozendict          pathspec            toml\n",
      "_sha3               frozenlist          patsy               tomli\n",
      "_sha512             fsspec              pdb                 tomlkit\n",
      "_signal             ftplib              perfmon             tomllib\n",
      "_sitebuiltins       functools           pexpect             toolz\n",
      "_socket             functorch           phik                torch\n",
      "_sqlite3            future              pickle              torchaudio\n",
      "_sre                gast                pickleshare         torchgen\n",
      "_ssl                gc                  pickletools         torchinfo\n",
      "_stat               genericpath         pip                 torchvision\n",
      "_statistics         gensim              pipes               torio\n",
      "_string             getopt              pkce                tornado\n",
      "_strptime           getpass             pkg_resources       tqdm\n",
      "_struct             gettext             pkginfo             trace\n",
      "_symtable           git                 pkgutil             traceback\n",
      "_system_path        gitdb               platform            tracemalloc\n",
      "_testbuffer         glob                platformdirs        traitlets\n",
      "_testcapi           gmpy2               plistlib            truststore\n",
      "_testconsole        google_auth_oauthlib plotly              tty\n",
      "_testimportmultiple graphlib            pluggy              turtle\n",
      "_testinternalcapi   graphviz            ply                 turtledemo\n",
      "_testmultiphase     greenlet            poplib              twisted\n",
      "_thread             grpc                posixpath           typeguard\n",
      "_threading_local    gzip                pprint              typer\n",
      "_tkinter            h5py                profile             types\n",
      "_tokenize           hashlib             prometheus_client   typing\n",
      "_tracemalloc        heapdict            prompt_toolkit      typing_extensions\n",
      "_typing             heapq               protego             tzdata\n",
      "_uuid               hmac                pstats              tzlocal\n",
      "_warnings           holoviews           psutil              uc_micro\n",
      "_weakref            html                pty                 ujson\n",
      "_weakrefset         htmlmin             ptyprocess          unicodedata\n",
      "_win32sysloader     http                pure_eval           unidecode\n",
      "_winapi             hvplot              py                  unittest\n",
      "_winxptheme         hyperlink           py_compile          uri_template\n",
      "_xxsubinterpreters  hypothesis          pyarrow             urllib\n",
      "_yaml               idlelib             pyasn1              urllib3\n",
      "_zoneinfo           idna                pyasn1_modules      uu\n",
      "abc                 imagecodecs         pyclbr              uuid\n",
      "absl                imagehash           pycodestyle         validators\n",
      "adodbapi            imageio             pycosat             venv\n",
      "afxres              imagesize           pycparser           visions\n",
      "aifc                imaplib             pyct                w3lib\n",
      "aiobotocore         imblearn            pycurl              warnings\n",
      "aiohttp             imghdr              pydantic            watchdog\n",
      "aioitertools        imp                 pydantic_core       wave\n",
      "aiosignal           importlib           pydantic_settings   wcwidth\n",
      "alabaster           importlib_metadata  pydeck              weakref\n",
      "alembic             incremental         pydispatch          webbrowser\n",
      "altair              inflection          pydoc               webcolors\n",
      "anaconda_anon_usage iniconfig           pydoc_data          webencodings\n",
      "anaconda_auth       inspect             pydocstyle          websocket\n",
      "anaconda_catalogs   intake              pydot               werkzeug\n",
      "anaconda_cli_base   intervaltree        pyexpat             whatthepatch\n",
      "anaconda_cloud_auth io                  pyflakes            wheel\n",
      "anaconda_navigator  ipaddress           pygments            widgetsnbextension\n",
      "anaconda_project    ipykernel           pylab               win2kras\n",
      "annotated_types     ipykernel_launcher  pylint              win32api\n",
      "antigravity         ipython_genutils    pylint_venv         win32clipboard\n",
      "anyio               ipywidgets          pyls_spyder         win32com\n",
      "appdirs             isapi               pylsp               win32con\n",
      "archspec            isoduration         pylsp_black         win32console\n",
      "argon2              isort               pylsp_jsonrpc       win32cred\n",
      "argparse            isympy              pyodbc              win32crypt\n",
      "array               itemadapter         pyparsing           win32cryptcon\n",
      "arrow               itemloaders         pytest              win32ctypes\n",
      "ast                 itertools           pythoncom           win32event\n",
      "astroid             itsdangerous        pythonjsonlogger    win32evtlog\n",
      "astropy             jedi                pytoolconfig        win32evtlogutil\n",
      "asttokens           jellyfish           pytz                win32file\n",
      "astunparse          jinja2              pyviz_comms         win32gui\n",
      "async_lru           jmespath            pywin               win32gui_struct\n",
      "asynchat            joblib              pywin32_bootstrap   win32help\n",
      "asyncio             json                pywin32_testutil    win32inet\n",
      "asyncore            json5               pywintypes          win32inetcon\n",
      "atexit              jsonpatch           pywt                win32job\n",
      "atomicwrites        jsonpointer         qdarkstyle          win32lz\n",
      "attr                jsonschema          qstylizer           win32net\n",
      "attrs               jsonschema_specifications qtawesome           win32netcon\n",
      "audioop             jupyter             qtconsole           win32pdh\n",
      "automat             jupyter_client      qtpy                win32pdhquery\n",
      "autopep8            jupyter_console     queue               win32pdhutil\n",
      "babel               jupyter_core        queuelib            win32pipe\n",
      "backports           jupyter_events      quopri              win32print\n",
      "base64              jupyter_lsp         random              win32process\n",
      "bcrypt              jupyter_server      rasutil             win32profile\n",
      "bdb                 jupyter_server_terminals re                  win32ras\n",
      "binaryornot         jupyterlab          readchar            win32rcparser\n",
      "binascii            jupyterlab_plotly   referencing         win32security\n",
      "binstar_client      jupyterlab_pygments regcheck            win32service\n",
      "bisect              jupyterlab_server   regex               win32serviceutil\n",
      "black               jupyterlab_widgets  regutil             win32timezone\n",
      "blackd              jwt                 repo_cli            win32trace\n",
      "bleach              kaggle              reprlib             win32traceutil\n",
      "blib2to3            kagglesdk           requests            win32transaction\n",
      "blinker             keras               requests_file       win32ts\n",
      "bokeh               keras_tuner         requests_oauthlib   win32ui\n",
      "boltons             kerastuner          requests_toolbelt   win32uiole\n",
      "botocore            keyring             rfc3339_validator   win32verstamp\n",
      "bottleneck          keyword             rfc3986_validator   win32wnet\n",
      "brotli              kiwisolver          rich                win_inet_pton\n",
      "bs4                 lazy_loader         rlcompleter         winerror\n",
      "builtins            lazy_object_proxy   rope                winioctlcon\n",
      "bz2                 lckr_jupyterlab_variableinspector rpds                winnt\n",
      "cProfile            lib2to3             rsa                 winperf\n",
      "cachetools          libarchive          rtree               winpty\n",
      "calendar            libfuturize         ruamel_yaml         winreg\n",
      "certifi             libmambapy          runpy               winsound\n",
      "cffi                libpasteurize       s3fs                winxpgui\n",
      "cgi                 lief                sched               winxptheme\n",
      "cgitb               linecache           scipy               wordcloud\n",
      "chardet             linkify_it          scrapy              wrapt\n",
      "charset_normalizer  llvmlite            seaborn             wsgiref\n",
      "chunk               lmdb                secrets             xarray\n",
      "clang               locale              select              xdrlib\n",
      "click               locket              selectors           xgboost\n",
      "cloudpickle         logging             semver              xlwings\n",
      "clyent              lxml                send2trash          xml\n",
      "cmath               lz4                 service_identity    xmlrpc\n",
      "cmd                 lzma                servicemanager      xxlimited\n",
      "code                mailbox             setuptools          xxlimited_35\n",
      "codecs              mailcap             shellingham         xxsubtype\n",
      "codeop              mako                shelve              xyzservices\n",
      "collections         markdown            shlex               yaml\n",
      "colorama            markdown_it         shutil              yapf\n",
      "colorcet            markupsafe          signal              yapftests\n",
      "colorlog            marshal             sipbuild            yarl\n",
      "colorsys            math                site                ydata_profiling\n",
      "colour              matplotlib          six                 zict\n",
      "comm                matplotlib_inline   skimage             zipapp\n",
      "commctrl            mccabe              sklearn             zipfile\n",
      "compileall          mdit_py_plugins     sklearn_compat      zipimport\n",
      "concurrent          mdurl               slugify             zipp\n",
      "conda               menuinst            smart_open          zlib\n",
      "conda_build         mimetypes           smmap               zmq\n",
      "conda_content_trust missingno           smtpd               zoneinfo\n",
      "conda_env           mistune             smtplib             zope\n",
      "conda_index         mkl                 snappy              zstandard\n",
      "conda_libmamba_solver mkl_fft             sndhdr              \n",
      "\n",
      "Enter any module name to get more help.  Or, type \"modules spam\" to search\n",
      "for modules whose name or summary contain the string \"spam\".\n",
      "\n"
     ]
    },
    {
     "name": "stderr",
     "output_type": "stream",
     "text": [
      "C:\\Users\\ritik\\anaconda3\\Lib\\site-packages\\Pythonwin\\pywin\\scintilla\\view.py:814: ResourceWarning:\n",
      "\n",
      "unclosed file <_io.TextIOWrapper name='C:\\\\Users\\\\ritik\\\\anaconda3\\\\Lib\\\\site-packages\\\\Pythonwin\\\\pywin\\\\default.cfg' mode='r' encoding='cp1252'>\n",
      "\n"
     ]
    }
   ],
   "source": [
    "help('modules')"
   ]
  },
  {
   "cell_type": "code",
   "execution_count": 4,
   "id": "b5c2ca44",
   "metadata": {
    "scrolled": true
   },
   "outputs": [
    {
     "name": "stdout",
     "output_type": "stream",
     "text": [
      "['False', 'None', 'True', 'and', 'as', 'assert', 'async', 'await', 'break', 'class', 'continue', 'def', 'del', 'elif', 'else', 'except', 'finally', 'for', 'from', 'global', 'if', 'import', 'in', 'is', 'lambda', 'nonlocal', 'not', 'or', 'pass', 'raise', 'return', 'try', 'while', 'with', 'yield']\n"
     ]
    }
   ],
   "source": [
    "# keyword module\n",
    "import keyword\n",
    "print(keyword.kwlist)  # Reserved keywords in Python"
   ]
  },
  {
   "cell_type": "markdown",
   "id": "632f986e",
   "metadata": {},
   "source": [
    "### Math Module"
   ]
  },
  {
   "cell_type": "code",
   "execution_count": 22,
   "id": "ec581766",
   "metadata": {},
   "outputs": [],
   "source": [
    "# include <stdio.h>    -> in c \n",
    "import math # in python just use import"
   ]
  },
  {
   "cell_type": "code",
   "execution_count": 6,
   "id": "0c76afdd",
   "metadata": {},
   "outputs": [
    {
     "data": {
      "text/plain": [
       "3.141592653589793"
      ]
     },
     "execution_count": 6,
     "metadata": {},
     "output_type": "execute_result"
    }
   ],
   "source": [
    "math.pi"
   ]
  },
  {
   "cell_type": "code",
   "execution_count": 7,
   "id": "6ac1e347",
   "metadata": {},
   "outputs": [
    {
     "data": {
      "text/plain": [
       "2.718281828459045"
      ]
     },
     "execution_count": 7,
     "metadata": {},
     "output_type": "execute_result"
    }
   ],
   "source": [
    "math.e"
   ]
  },
  {
   "cell_type": "code",
   "execution_count": 8,
   "id": "92777285",
   "metadata": {},
   "outputs": [
    {
     "data": {
      "text/plain": [
       "120"
      ]
     },
     "execution_count": 8,
     "metadata": {},
     "output_type": "execute_result"
    }
   ],
   "source": [
    "math.factorial(5)"
   ]
  },
  {
   "cell_type": "code",
   "execution_count": 9,
   "id": "81875d42",
   "metadata": {},
   "outputs": [
    {
     "data": {
      "text/plain": [
       "7"
      ]
     },
     "execution_count": 9,
     "metadata": {},
     "output_type": "execute_result"
    }
   ],
   "source": [
    "math.ceil(6.3)"
   ]
  },
  {
   "cell_type": "code",
   "execution_count": 10,
   "id": "5dc86635",
   "metadata": {},
   "outputs": [
    {
     "data": {
      "text/plain": [
       "6"
      ]
     },
     "execution_count": 10,
     "metadata": {},
     "output_type": "execute_result"
    }
   ],
   "source": [
    "math.floor(6.9)"
   ]
  },
  {
   "cell_type": "code",
   "execution_count": 23,
   "id": "ec986335-4a9f-44e6-ac75-1a8ee3a80770",
   "metadata": {},
   "outputs": [
    {
     "data": {
      "text/plain": [
       "10.0"
      ]
     },
     "execution_count": 23,
     "metadata": {},
     "output_type": "execute_result"
    }
   ],
   "source": [
    "math.sqrt(100)"
   ]
  },
  {
   "cell_type": "markdown",
   "id": "e954367e",
   "metadata": {},
   "source": [
    "### Random Module"
   ]
  },
  {
   "cell_type": "code",
   "execution_count": 11,
   "id": "894d866d",
   "metadata": {},
   "outputs": [],
   "source": [
    "import random"
   ]
  },
  {
   "cell_type": "code",
   "execution_count": 12,
   "id": "39ba8fe2",
   "metadata": {},
   "outputs": [
    {
     "data": {
      "text/plain": [
       "52"
      ]
     },
     "execution_count": 12,
     "metadata": {},
     "output_type": "execute_result"
    }
   ],
   "source": [
    "random.randint(1, 100)"
   ]
  },
  {
   "cell_type": "code",
   "execution_count": 13,
   "id": "09476dd9",
   "metadata": {},
   "outputs": [
    {
     "data": {
      "text/plain": [
       "[4, 2, 5, 1, 3]"
      ]
     },
     "execution_count": 13,
     "metadata": {},
     "output_type": "execute_result"
    }
   ],
   "source": [
    "a = [1, 2, 3, 4, 5]\n",
    "random.shuffle(a)\n",
    "a"
   ]
  },
  {
   "cell_type": "markdown",
   "id": "645bfaea",
   "metadata": {},
   "source": [
    "### Time Module"
   ]
  },
  {
   "cell_type": "code",
   "execution_count": 14,
   "id": "0ab1cfde",
   "metadata": {},
   "outputs": [],
   "source": [
    "import time"
   ]
  },
  {
   "cell_type": "code",
   "execution_count": 15,
   "id": "0f72a97f",
   "metadata": {},
   "outputs": [
    {
     "data": {
      "text/plain": [
       "1755548497.9928355"
      ]
     },
     "execution_count": 15,
     "metadata": {},
     "output_type": "execute_result"
    }
   ],
   "source": [
    "time.time() # Current time (seconds)"
   ]
  },
  {
   "cell_type": "code",
   "execution_count": 16,
   "id": "07fdd5d5",
   "metadata": {},
   "outputs": [
    {
     "data": {
      "text/plain": [
       "'Tue Aug 19 01:51:40 2025'"
      ]
     },
     "execution_count": 16,
     "metadata": {},
     "output_type": "execute_result"
    }
   ],
   "source": [
    "time.ctime() # Current time (string)"
   ]
  },
  {
   "cell_type": "code",
   "execution_count": 17,
   "id": "629230ac",
   "metadata": {},
   "outputs": [
    {
     "name": "stdout",
     "output_type": "stream",
     "text": [
      "Hello\n",
      "World\n"
     ]
    }
   ],
   "source": [
    "print(\"Hello\")\n",
    "time.sleep(5) # Delay for 5 seconds\n",
    "print(\"World\")"
   ]
  },
  {
   "cell_type": "markdown",
   "id": "4d026824",
   "metadata": {},
   "source": [
    "### Datetime Module"
   ]
  },
  {
   "cell_type": "code",
   "execution_count": 18,
   "id": "ec47dd18",
   "metadata": {},
   "outputs": [
    {
     "name": "stdout",
     "output_type": "stream",
     "text": [
      "2025-08-19 01:51:59.709624\n"
     ]
    }
   ],
   "source": [
    "import datetime\n",
    "print(datetime.datetime.now()) # Current date/time"
   ]
  },
  {
   "cell_type": "markdown",
   "id": "e222133f",
   "metadata": {},
   "source": [
    "### OS Module"
   ]
  },
  {
   "cell_type": "code",
   "execution_count": 19,
   "id": "2839f55c",
   "metadata": {},
   "outputs": [],
   "source": [
    "import os"
   ]
  },
  {
   "cell_type": "code",
   "execution_count": 20,
   "id": "d2eb69b8",
   "metadata": {},
   "outputs": [
    {
     "data": {
      "text/plain": [
       "'C:\\\\Users\\\\ritik\\\\Python\\\\4.Built-in-functions & Modules'"
      ]
     },
     "execution_count": 20,
     "metadata": {},
     "output_type": "execute_result"
    }
   ],
   "source": [
    "os.getcwd() # Current working dir"
   ]
  },
  {
   "cell_type": "code",
   "execution_count": 21,
   "id": "a2a14d8d",
   "metadata": {},
   "outputs": [
    {
     "data": {
      "text/plain": [
       "['.ipynb_checkpoints',\n",
       " '4.1 built-in-funcs.ipynb',\n",
       " '4.2built-in-modules.ipynb',\n",
       " 'cachedir']"
      ]
     },
     "execution_count": 21,
     "metadata": {},
     "output_type": "execute_result"
    }
   ],
   "source": [
    "os.listdir() # Files in dir"
   ]
  },
  {
   "cell_type": "code",
   "execution_count": null,
   "id": "01ea95cc-82ad-41d8-a006-749cb166d2c8",
   "metadata": {},
   "outputs": [],
   "source": []
  }
 ],
 "metadata": {
  "kernelspec": {
   "display_name": "Python 3 (ipykernel)",
   "language": "python",
   "name": "python3"
  },
  "language_info": {
   "codemirror_mode": {
    "name": "ipython",
    "version": 3
   },
   "file_extension": ".py",
   "mimetype": "text/x-python",
   "name": "python",
   "nbconvert_exporter": "python",
   "pygments_lexer": "ipython3",
   "version": "3.11.7"
  }
 },
 "nbformat": 4,
 "nbformat_minor": 5
}
